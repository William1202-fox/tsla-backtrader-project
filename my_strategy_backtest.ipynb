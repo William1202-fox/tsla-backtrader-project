{
  "nbformat": 4,
  "nbformat_minor": 0,
  "metadata": {
    "colab": {
      "provenance": [],
      "authorship_tag": "ABX9TyMwMx1pc6rhJ2nJ3LrO5PS+",
      "include_colab_link": true
    },
    "kernelspec": {
      "name": "python3",
      "display_name": "Python 3"
    },
    "language_info": {
      "name": "python"
    }
  },
  "cells": [
    {
      "cell_type": "markdown",
      "metadata": {
        "id": "view-in-github",
        "colab_type": "text"
      },
      "source": [
        "<a href=\"https://colab.research.google.com/github/William1202-fox/tsla-backtrader-project/blob/main/my_strategy_backtest.ipynb\" target=\"_parent\"><img src=\"https://colab.research.google.com/assets/colab-badge.svg\" alt=\"Open In Colab\"/></a>"
      ]
    },
    {
      "cell_type": "markdown",
      "source": [
        "**1.1 安裝必要套件**"
      ],
      "metadata": {
        "id": "3QMtbQhO8HFE"
      }
    },
    {
      "cell_type": "code",
      "source": [
        "#backtrader 回測框架\n",
        "#yfincance 下載美股日線\n",
        "#pandas、matplotlib 處理、畫資料\n",
        "!pip install -q backtrader yfinance pandas matplotlib"
      ],
      "metadata": {
        "id": "QC3G3zjDIMq9",
        "colab": {
          "base_uri": "https://localhost:8080/"
        },
        "outputId": "21381ea6-1f7e-46e4-b21c-7a46031a756d"
      },
      "execution_count": 2,
      "outputs": [
        {
          "output_type": "stream",
          "name": "stdout",
          "text": [
            "\u001b[?25l   \u001b[90m━━━━━━━━━━━━━━━━━━━━━━━━━━━━━━━━━━━━━━━━\u001b[0m \u001b[32m0.0/419.5 kB\u001b[0m \u001b[31m?\u001b[0m eta \u001b[36m-:--:--\u001b[0m\r\u001b[2K   \u001b[91m━━━━━━━━━\u001b[0m\u001b[91m╸\u001b[0m\u001b[90m━━━━━━━━━━━━━━━━━━━━━━━━━━━━━━\u001b[0m \u001b[32m102.4/419.5 kB\u001b[0m \u001b[31m2.8 MB/s\u001b[0m eta \u001b[36m0:00:01\u001b[0m\r\u001b[2K   \u001b[91m━━━━━━━━━━━━━━━━━━━━━━━━━━━━━━━━━━━━━━━\u001b[0m\u001b[90m╺\u001b[0m \u001b[32m409.6/419.5 kB\u001b[0m \u001b[31m6.9 MB/s\u001b[0m eta \u001b[36m0:00:01\u001b[0m\r\u001b[2K   \u001b[90m━━━━━━━━━━━━━━━━━━━━━━━━━━━━━━━━━━━━━━━━\u001b[0m \u001b[32m419.5/419.5 kB\u001b[0m \u001b[31m5.4 MB/s\u001b[0m eta \u001b[36m0:00:00\u001b[0m\n",
            "\u001b[?25h"
          ]
        }
      ]
    },
    {
      "cell_type": "markdown",
      "source": [
        "**1.2 下載歷史股價資料**"
      ],
      "metadata": {
        "id": "AKdMB-u0dLbv"
      }
    },
    {
      "cell_type": "code",
      "source": [
        "import yfinance as yf\n",
        "data = yf.download(\"TSLA\", start = \"2010-01-01\", end = \"2025-05-22\", group_by = \"column\")\n",
        "print(data.tail())"
      ],
      "metadata": {
        "id": "MBixPVR2JQSY",
        "colab": {
          "base_uri": "https://localhost:8080/"
        },
        "outputId": "5c488ecc-29aa-493d-c5a5-73daa9b2637c"
      },
      "execution_count": 3,
      "outputs": [
        {
          "output_type": "stream",
          "name": "stdout",
          "text": [
            "YF.download() has changed argument auto_adjust default to True\n"
          ]
        },
        {
          "output_type": "stream",
          "name": "stderr",
          "text": [
            "\r[*********************100%***********************]  1 of 1 completed"
          ]
        },
        {
          "output_type": "stream",
          "name": "stdout",
          "text": [
            "Price            Close        High         Low        Open     Volume\n",
            "Ticker            TSLA        TSLA        TSLA        TSLA       TSLA\n",
            "Date                                                                 \n",
            "2025-05-15  342.820007  346.140015  334.720001  340.339996   97882600\n",
            "2025-05-16  349.980011  351.619995  342.329987  346.239990   95895700\n",
            "2025-05-19  342.089996  343.000000  333.369995  336.299988   88869900\n",
            "2025-05-20  343.820007  354.989990  341.630005  347.869995  131715500\n",
            "2025-05-21  334.619995  347.350006  332.200012  344.429993  102354800\n"
          ]
        },
        {
          "output_type": "stream",
          "name": "stderr",
          "text": [
            "\n"
          ]
        }
      ]
    },
    {
      "cell_type": "markdown",
      "source": [
        "**1.3 檢查欄位格式**"
      ],
      "metadata": {
        "id": "LXfHCsThKvkN"
      }
    },
    {
      "cell_type": "code",
      "source": [
        "print(data.columns)"
      ],
      "metadata": {
        "colab": {
          "base_uri": "https://localhost:8080/"
        },
        "id": "ECFWgth7Jtkm",
        "outputId": "a6be9a4d-e3bd-4824-99aa-acab075ba984"
      },
      "execution_count": 4,
      "outputs": [
        {
          "output_type": "stream",
          "name": "stdout",
          "text": [
            "MultiIndex([( 'Close', 'TSLA'),\n",
            "            (  'High', 'TSLA'),\n",
            "            (   'Low', 'TSLA'),\n",
            "            (  'Open', 'TSLA'),\n",
            "            ('Volume', 'TSLA')],\n",
            "           names=['Price', 'Ticker'])\n"
          ]
        }
      ]
    },
    {
      "cell_type": "markdown",
      "source": [
        "**2.1 把 MultiIndex 攤平成單層欄名**"
      ],
      "metadata": {
        "id": "zkefY3ILMij-"
      }
    },
    {
      "cell_type": "code",
      "source": [
        "data.columns = data.columns.get_level_values(0)\n",
        "print(data.head())\n",
        "print(data.columns)"
      ],
      "metadata": {
        "colab": {
          "base_uri": "https://localhost:8080/"
        },
        "id": "EiiKOpxKK3ZY",
        "outputId": "1a3ac7e6-87d3-40dd-fdff-5466b2eb8c26"
      },
      "execution_count": 5,
      "outputs": [
        {
          "output_type": "stream",
          "name": "stdout",
          "text": [
            "Price          Close      High       Low      Open     Volume\n",
            "Date                                                         \n",
            "2010-06-29  1.592667  1.666667  1.169333  1.266667  281494500\n",
            "2010-06-30  1.588667  2.028000  1.553333  1.719333  257806500\n",
            "2010-07-01  1.464000  1.728000  1.351333  1.666667  123282000\n",
            "2010-07-02  1.280000  1.540000  1.247333  1.533333   77097000\n",
            "2010-07-06  1.074000  1.333333  1.055333  1.333333  103003500\n",
            "Index(['Close', 'High', 'Low', 'Open', 'Volume'], dtype='object', name='Price')\n"
          ]
        }
      ]
    },
    {
      "cell_type": "markdown",
      "source": [
        "**2.2 存成csv檔**"
      ],
      "metadata": {
        "id": "LmZUg7UQWikn"
      }
    },
    {
      "cell_type": "code",
      "source": [
        "data.to_csv(\"tsla.csv\")"
      ],
      "metadata": {
        "id": "I686_bwfWYob"
      },
      "execution_count": 6,
      "outputs": []
    },
    {
      "cell_type": "markdown",
      "source": [
        "**2.3 檢查缺值**"
      ],
      "metadata": {
        "id": "kMI8KtqdXD19"
      }
    },
    {
      "cell_type": "code",
      "source": [
        "print(data.isna().sum())"
      ],
      "metadata": {
        "colab": {
          "base_uri": "https://localhost:8080/"
        },
        "id": "c6R9dgAiW3zq",
        "outputId": "5be54906-4cb0-41f5-ea20-ff95be2ddeb0"
      },
      "execution_count": 7,
      "outputs": [
        {
          "output_type": "stream",
          "name": "stdout",
          "text": [
            "Price\n",
            "Close     0\n",
            "High      0\n",
            "Low       0\n",
            "Open      0\n",
            "Volume    0\n",
            "dtype: int64\n"
          ]
        }
      ]
    },
    {
      "cell_type": "markdown",
      "source": [
        "**3.1 定義布林通道策略**"
      ],
      "metadata": {
        "id": "BDdldwuTXLe8"
      }
    },
    {
      "cell_type": "code",
      "source": [
        "import backtrader as bt\n",
        "import datetime as dt\n",
        "\n",
        "class BollingerReentry(bt.Strategy):\n",
        "  params = dict(\n",
        "      period = 20,        #布林通道週期\n",
        "      devfactor = 2.0,    #標準差倍數\n",
        "      cash_pct = 0.30,    #每次投入現金比例\n",
        "      exit_date = dt.date(2025, 5, 21)    #最後平倉日\n",
        "  )\n",
        "\n",
        "  def __init__(self):\n",
        "    #建立布林通道指標（上、中、下軸）\n",
        "    self.boll = bt.indicators.BollingerBands(\n",
        "        self.data.close,\n",
        "        period = self.p.period,\n",
        "        devfactor = self.p.devfactor\n",
        "    )\n",
        "\n",
        "  def next(self):\n",
        "      #在遇到收盤價碰到下軸，用現金30%買進\n",
        "      if self.data.close[0] <= self.boll.bot[0]:\n",
        "          cash_avail = self.broker.getcash()\n",
        "          buy_cash = cash_avail * self.p.cash_pct\n",
        "          size = int(buy_cash / self.data.close[0])\n",
        "          if size > 0:\n",
        "            self.buy(size = size)\n",
        "\n",
        "      if self.data.datetime.date(0) >= self.p.exit_date and self.position:\n",
        "        self.close()"
      ],
      "metadata": {
        "id": "b5p3uPXGXNFz"
      },
      "execution_count": 8,
      "outputs": []
    },
    {
      "cell_type": "markdown",
      "source": [
        "**4.1 回測分析器**\n",
        "*   Annualized return\n",
        "*   Sharpe ratio\n",
        "*   Max drawdown\n",
        "*   equity curve"
      ],
      "metadata": {
        "id": "vrmYOpVMQsxp"
      }
    },
    {
      "cell_type": "code",
      "source": [
        "import matplotlib.pyplot as plt\n",
        "import pandas as pd\n",
        "import numpy as np\n",
        "\n",
        "cerebro = bt.Cerebro()\n",
        "feed = bt.feeds.PandasData(dataname = data)\n",
        "cerebro.adddata(feed)\n",
        "cerebro.addstrategy(BollingerReentry)\n",
        "cerebro.broker.setcash(1_000_000)\n",
        "cerebro.broker.setcommission(commission = 0.001) #假設0.1%手續費\n",
        "\n",
        "#日報酬率、夏普、最大回撤\n",
        "cerebro.addanalyzer(bt.analyzers.TimeReturn, timeframe=bt.TimeFrame.Days, _name='timeret')\n",
        "cerebro.addanalyzer(bt.analyzers.SharpeRatio, timeframe=bt.TimeFrame.Days, riskfreerate=0.0, _name='sharpe')\n",
        "cerebro.addanalyzer(bt.analyzers.DrawDown, _name='dd')\n",
        "\n",
        "result = cerebro.run()[0]\n",
        "final_value = cerebro.broker.getvalue()\n",
        "print(f\"Final equity: {final_value:,.2f}\")\n",
        "\n",
        "daily_ret = result.analyzers.timeret.get_analysis()     # dict {date: ret}\n",
        "rets = pd.Series(daily_ret).sort_index()\n",
        "ann_return = (final_value / 1_000_000) ** (252 / len(rets)) - 1\n",
        "sharpe = result.analyzers.sharpe.get_analysis()['sharperatio']\n",
        "max_dd = result.analyzers.dd.get_analysis()['max']['drawdown'] / 100\n",
        "\n",
        "print(f\"Annualized return : {ann_return:.2%}\")\n",
        "print(f\"Sharpe ratio      : {sharpe:.2f}\")\n",
        "print(f\"Max drawdown      : {max_dd:.1%}\")\n",
        "\n",
        "equity = (1 + rets).cumprod() * 1_000_000\n",
        "drawdown = equity / equity.cummax() - 1\n",
        "\n",
        "fig, ax = plt.subplots(figsize=(13,8))\n",
        "equity.plot(ax=ax, label='Equity')\n",
        "drawdown.plot(ax=ax, secondary_y=True, label='Drawdown', color='red')\n",
        "ax.set_title('Equity curve and drawdown')\n",
        "ax.set_ylabel('Equity')\n",
        "ax.right_ax.set_ylabel('Drawdown')\n",
        "ax.legend(loc='lower left')\n",
        "plt.show()"
      ],
      "metadata": {
        "id": "20hHCSRCcgSY"
      },
      "execution_count": null,
      "outputs": []
    }
  ]
}